{
 "cells": [
  {
   "cell_type": "markdown",
   "metadata": {},
   "source": [
    "### Python Exercises\n",
    "The exercises below are organized to match [A Whirlwind Tour of Python (VanderPlas)](http://www.oreilly.com/programming/free/files/a-whirlwind-tour-of-python.pdf). Specific pages are referenced in the various sections. These are designed to run using Python 3.x.\n",
    "\n",
    "Follow the guidelines below. Where necessary replace the ellipses (`...`) with the appropriate code in the code blocks, the run the code by pressing ctrl-enter. Be sure to save your document before closing. "
   ]
  },
  {
   "cell_type": "markdown",
   "metadata": {},
   "source": [
    "### 1. A Quick Tour of Python Language Syntax  ([pp 7 - 13](http://nbviewer.jupyter.org/github/env859/WhirlwindTourOfPython/blob/master/02-Basic-Python-Syntax.ipynb))\n",
    "* Comments\n",
    "* End of line (or semicolon) terminates a statement\n",
    "* Whitespace in front of a statement (indentation) vs. within a statement\n",
    "* Parentheses in Python"
   ]
  },
  {
   "cell_type": "markdown",
   "metadata": {},
   "source": [
    "1a. Modify the code below so the first line is not run. Also change it so that the text \"height in cm\" is ignored by Python (i.e. \"commented out\")"
   ]
  },
  {
   "cell_type": "code",
   "execution_count": null,
   "metadata": {},
   "outputs": [],
   "source": [
    "This line assigns the age and height of the student\n",
    "studentAge = 25\n",
    "studentHeight = 180 height in cm"
   ]
  },
  {
   "cell_type": "markdown",
   "metadata": {},
   "source": [
    "1b. Modify the code below so that both statements can be run on one line."
   ]
  },
  {
   "cell_type": "code",
   "execution_count": null,
   "metadata": {},
   "outputs": [],
   "source": [
    "stateName = \"North Carolina\"\n",
    "stateCapital = \"Raleigh\""
   ]
  },
  {
   "cell_type": "markdown",
   "metadata": {},
   "source": [
    "1c. Make the fewest edits possible so the code below so it runs without error."
   ]
  },
  {
   "cell_type": "code",
   "execution_count": null,
   "metadata": {},
   "outputs": [],
   "source": [
    "for i in [1,2,3,4,     5]:\n",
    "print (i * 2)"
   ]
  },
  {
   "cell_type": "markdown",
   "metadata": {},
   "source": [
    "1d. Add parentheses so the variable `treeCarbon` is 14"
   ]
  },
  {
   "cell_type": "code",
   "execution_count": null,
   "metadata": {},
   "outputs": [],
   "source": [
    "treeCarbon = 3 + 4 * 2\n",
    "print (treeCarbon)"
   ]
  },
  {
   "cell_type": "markdown",
   "metadata": {},
   "source": [
    "---\n",
    "\n",
    "### 2. Basic Python Sematics: Variables & Objects ([pp 13 - 14](http://nbviewer.jupyter.org/github/env859/WhirlwindTourOfPython/blob/master/03-Semantics-Variables.ipynb))\n",
    "* Python variables are pointers\n",
    " * Immutable vs mutable objects \n",
    "* Everything is an object"
   ]
  },
  {
   "cell_type": "markdown",
   "metadata": {},
   "source": [
    "2a. In the code block below:<br>\n",
    " \\* Assign x to the immutable number 11<br>\n",
    " \\* Assign y equal to x<br>\n",
    " \\* Re-assign x to the immutable string \"Duke University\"<br>\n",
    " \\* Print the value of y: **Did it change with x?** <br>"
   ]
  },
  {
   "cell_type": "code",
   "execution_count": null,
   "metadata": {},
   "outputs": [],
   "source": [
    "x = ...\n",
    "y = x\n",
    "x = ...\n",
    "print (y)"
   ]
  },
  {
   "cell_type": "markdown",
   "metadata": {},
   "source": [
    "2b. In the code block below:<br>\n",
    " \\* Assign x to the mutable list [\"apple\",\"banana\",\"cherry\"]<br>\n",
    " \\* Assign y equal to x<br>\n",
    " \\* Update x to include \"durian\"<br>\n",
    " \\* Print the value of y: **Did it change with x?** <br>"
   ]
  },
  {
   "cell_type": "code",
   "execution_count": null,
   "metadata": {},
   "outputs": [],
   "source": [
    "x = [\"apple\",\"banana\",\"cherry\"]\n",
    "y = ...\n",
    "x.append(...)\n",
    "... y"
   ]
  },
  {
   "cell_type": "markdown",
   "metadata": {},
   "source": [
    "2c. In the code block below:<br>\n",
    "\\* Make the first line a comment<br>\n",
    "\\* Set the variable `monty` equal to `True`<br>\n",
    "\\* Set another variable `python` equal to `1.234`<br>\n",
    "\\* Set a third variable `monty_python` equal to `python` squared<br>\n",
    "\\* print the value of `monty_python`<br>"
   ]
  },
  {
   "cell_type": "code",
   "execution_count": null,
   "metadata": {},
   "outputs": [],
   "source": [
    "...Exercise 1\n",
    "... = True\n",
    "python = ...\n",
    "monty_python = ... ** 2\n",
    "print(...)"
   ]
  },
  {
   "cell_type": "markdown",
   "metadata": {},
   "source": [
    "---\n",
    "### 3. Basic Python Semantics: Operators ([pp 14 - 24](http://nbviewer.jupyter.org/github/env859/WhirlwindTourOfPython/blob/master/04-Semantics-Operators.ipynb))\n",
    "* Arithmetic operations<br>\n",
    "* <s>Bitwise operations</s><br>\n",
    "* Assignment operations<br>\n",
    "* Comparison operations<br>\n",
    "* Boolean operations<br>\n",
    "* Identity & membership operations<br>"
   ]
  },
  {
   "cell_type": "markdown",
   "metadata": {},
   "source": [
    "3a. Write a line of code to convert degrees 31°C to Fahrenheit:\n",
    "   `T(°F) = T(°C) × 9/5 + 32`<br>*(The correct answer is 87.8)*"
   ]
  },
  {
   "cell_type": "code",
   "execution_count": null,
   "metadata": {},
   "outputs": [],
   "source": [
    "degC = ...\n",
    "degF = degC ...\n",
    "print degF"
   ]
  },
  {
   "cell_type": "markdown",
   "metadata": {},
   "source": [
    "3b. Use the assignment operations (p20) to re-write lines 2 and 3 below more simply:<br>"
   ]
  },
  {
   "cell_type": "code",
   "execution_count": null,
   "metadata": {},
   "outputs": [],
   "source": [
    "a = 1; b = 3\n",
    "a = a + 1\n",
    "b = b ** 2\n",
    "print a, b"
   ]
  },
  {
   "cell_type": "markdown",
   "metadata": {},
   "source": [
    "3c. After setting `a` equal to 10 and `b` equal to 17, use the proper boolean operators to code the statements below..."
   ]
  },
  {
   "cell_type": "code",
   "execution_count": null,
   "metadata": {},
   "outputs": [],
   "source": [
    "a = 10\n",
    "b = 17"
   ]
  },
  {
   "cell_type": "code",
   "execution_count": null,
   "metadata": {},
   "outputs": [],
   "source": [
    "#print whether a is greater than b\n",
    "print(...)"
   ]
  },
  {
   "cell_type": "code",
   "execution_count": null,
   "metadata": {},
   "outputs": [],
   "source": [
    "#print whether a is between 5 and 11\n",
    "print(...)"
   ]
  },
  {
   "cell_type": "code",
   "execution_count": null,
   "metadata": {},
   "outputs": [],
   "source": [
    "#print whether b minus a is equal to 7\n",
    "print(...)"
   ]
  },
  {
   "cell_type": "code",
   "execution_count": null,
   "metadata": {},
   "outputs": [],
   "source": [
    "#print whether b minus a is NOT equal to 7\n",
    "print(...)"
   ]
  },
  {
   "cell_type": "code",
   "execution_count": null,
   "metadata": {},
   "outputs": [],
   "source": [
    "#print whether b minus a is less than or equal to 6\n",
    "print(...)"
   ]
  },
  {
   "cell_type": "code",
   "execution_count": null,
   "metadata": {},
   "outputs": [],
   "source": [
    "#print whether 0.1 plus 0.2 is equal to 0.3 - Note: you might not get what you expect\n",
    "print(...)"
   ]
  },
  {
   "cell_type": "code",
   "execution_count": null,
   "metadata": {},
   "outputs": [],
   "source": [
    "#Regarding the above, try this:\n",
    "0.1 + 0.2"
   ]
  },
  {
   "cell_type": "markdown",
   "metadata": {},
   "source": [
    "---\n",
    "### 4. Built-In Types: Simple Values/Scalars ([pp 24 - 29](http://nbviewer.jupyter.org/github/env859/WhirlwindTourOfPython/blob/master/05-Built-in-Scalar-Types.ipynb))\n",
    "* Integers\n",
    "* Floating-points numbers\n",
    "* <s>Complex numbers</s>\n",
    "* Strings\n",
    "* \"None\"\n",
    "* Booleans"
   ]
  },
  {
   "cell_type": "markdown",
   "metadata": {},
   "source": [
    "4a. Set `x` equal to the integer value 6"
   ]
  },
  {
   "cell_type": "code",
   "execution_count": null,
   "metadata": {},
   "outputs": [],
   "source": [
    "x = ..."
   ]
  },
  {
   "cell_type": "markdown",
   "metadata": {},
   "source": [
    "4b. Set `y` equal to the *floating point* value 6"
   ]
  },
  {
   "cell_type": "code",
   "execution_count": null,
   "metadata": {},
   "outputs": [],
   "source": [
    "y = ..."
   ]
  },
  {
   "cell_type": "markdown",
   "metadata": {},
   "source": [
    "4c. Print x divided by 4, and then y divided by 4, and then x divided by 4.0"
   ]
  },
  {
   "cell_type": "code",
   "execution_count": null,
   "metadata": {},
   "outputs": [],
   "source": [
    "print (x / 4)\n",
    "print (y / 4)\n",
    "print (x / 4.0)"
   ]
  },
  {
   "cell_type": "markdown",
   "metadata": {},
   "source": [
    "4d. Create the following string variables, setting values as such:<br>\n",
    "  `name` -> `Amelia`<br>\n",
    "  `gender` -> `F`<br>\n",
    "  `age` -> `10`<br>\n",
    "  `team` -> `Blaze`<br>"
   ]
  },
  {
   "cell_type": "code",
   "execution_count": null,
   "metadata": {},
   "outputs": [],
   "source": [
    "name = ...\n",
    "gender = ...\n",
    "age = ...\n",
    "team = ..."
   ]
  },
  {
   "cell_type": "markdown",
   "metadata": {},
   "source": [
    "4e. Show the `type` of the gender variable"
   ]
  },
  {
   "cell_type": "code",
   "execution_count": null,
   "metadata": {},
   "outputs": [],
   "source": [
    "type(...)"
   ]
  },
  {
   "cell_type": "markdown",
   "metadata": {},
   "source": [
    "4f. Combine the `name` and the `age` variables to print out: `Amelia is 10 years old`"
   ]
  },
  {
   "cell_type": "code",
   "execution_count": null,
   "metadata": {},
   "outputs": [],
   "source": [
    "print (name + ' is ' + ...)"
   ]
  },
  {
   "cell_type": "markdown",
   "metadata": {},
   "source": [
    "4g. Use combinations of `'` and `\"` along with Python escaping character (\"`\\`\") to print the following:<br>\n",
    " `This is a Python string`<br>\n",
    " `This is John's Python string`<br>\n",
    " `This is a string that says \"Hey!\"`<br>\n",
    " `This is John's Python string that says \"Hey!\"`<br>"
   ]
  },
  {
   "cell_type": "code",
   "execution_count": null,
   "metadata": {},
   "outputs": [],
   "source": [
    "print(\"This is a Python string\")\n",
    "print(...)\n",
    "print(...)\n",
    "print(...)"
   ]
  },
  {
   "cell_type": "markdown",
   "metadata": {},
   "source": [
    "Use Python's escaping charater followed by `n`, `t`, or `r` into the following statement to write, *using just one line of code*:<br>\n",
    "`this is one line,` <br> `and this is another`"
   ]
  },
  {
   "cell_type": "code",
   "execution_count": null,
   "metadata": {},
   "outputs": [],
   "source": [
    "print(...)"
   ]
  },
  {
   "cell_type": "markdown",
   "metadata": {},
   "source": [
    "4h. Set the variable `x` to the `None` object. Then use a Boolean operator to see whether `x` is equal to `None`. Finally use the identity operator `is`(p. 23) to check whether `x` *is* `None`."
   ]
  },
  {
   "cell_type": "code",
   "execution_count": null,
   "metadata": {},
   "outputs": [],
   "source": [
    "x = \"Python is neat-o\"\n",
    "x = ...\n",
    "print (x ... None)\n",
    "print (x ... None)"
   ]
  }
 ],
 "metadata": {
  "kernelspec": {
   "display_name": "Python 3",
   "language": "python",
   "name": "python3"
  },
  "language_info": {
   "codemirror_mode": {
    "name": "ipython",
    "version": 3
   },
   "file_extension": ".py",
   "mimetype": "text/x-python",
   "name": "python",
   "nbconvert_exporter": "python",
   "pygments_lexer": "ipython3",
   "version": "3.6.6"
  }
 },
 "nbformat": 4,
 "nbformat_minor": 2
}
