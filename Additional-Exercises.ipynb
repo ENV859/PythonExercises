{
 "cells": [
  {
   "cell_type": "markdown",
   "id": "f100dc6b",
   "metadata": {},
   "source": [
    "# Additional Exercises\n",
    "*Complete the tasks marked below. Be sure to insert appropriate comments in each code block.*"
   ]
  },
  {
   "cell_type": "markdown",
   "id": "43afccb8",
   "metadata": {},
   "source": [
    "The Weather Underground web site allows you to extract weather data for many locations for the past several years. For example: <https://www.wunderground.com/history/daily/us/nc/morrisville/KRDU/date/2022-1-12> lists the hourly temperature for RDU on January 12th, 2022 (a particulalry unusual day). We'll use Python to do a bit of analysis with these data..."
   ]
  },
  {
   "cell_type": "markdown",
   "id": "3d764359",
   "metadata": {},
   "source": [
    "**Task 1.** Create a list of hourly temperatures from, in Farenheit."
   ]
  },
  {
   "cell_type": "code",
   "execution_count": null,
   "id": "4ced4123",
   "metadata": {},
   "outputs": [],
   "source": [
    "temp_f = [28, 29, 28, 29, 26, 27, 27, 25, 31, 37, 42, 47, 49, 51, 52, 52, 49, 46, 43, 40, 40, 39, 36, 37]"
   ]
  },
  {
   "cell_type": "markdown",
   "id": "0bf40cb6",
   "metadata": {},
   "source": [
    "**Task 2** Iterate through the temperatures and tally their cumulative sum using an additive operator. On completion of the iteration, print the sum. (You should get `910`.)"
   ]
  },
  {
   "cell_type": "code",
   "execution_count": null,
   "id": "469f6fde",
   "metadata": {},
   "outputs": [],
   "source": []
  },
  {
   "cell_type": "markdown",
   "id": "463a0f6f",
   "metadata": {},
   "source": [
    "**Task 3** Using Python, compute how many records were below freezing (32°F)"
   ]
  },
  {
   "cell_type": "code",
   "execution_count": null,
   "id": "dde450b2",
   "metadata": {},
   "outputs": [],
   "source": []
  },
  {
   "cell_type": "markdown",
   "id": "68a92fba",
   "metadata": {},
   "source": [
    "**Task 4** Extract the temperature recorded at 10:51am (the 10th record). Convert this temperature from farenheit to celsius ($°C = (°F - 32) * 5/9$), and report as a formatted string:  \n",
    "`At 10:51am on Jan 12, 2022, it was X degrees C at RDU Airport`  \n",
    "where \"X\" is the temperature calculated above"
   ]
  },
  {
   "cell_type": "code",
   "execution_count": null,
   "id": "d69fd8d1",
   "metadata": {},
   "outputs": [],
   "source": []
  }
 ],
 "metadata": {
  "kernelspec": {
   "display_name": "Python 3 (ipykernel)",
   "language": "python",
   "name": "python3"
  },
  "language_info": {
   "codemirror_mode": {
    "name": "ipython",
    "version": 3
   },
   "file_extension": ".py",
   "mimetype": "text/x-python",
   "name": "python",
   "nbconvert_exporter": "python",
   "pygments_lexer": "ipython3",
   "version": "3.11.11"
  }
 },
 "nbformat": 4,
 "nbformat_minor": 5
}
