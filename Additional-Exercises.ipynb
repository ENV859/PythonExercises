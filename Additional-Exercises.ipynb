{
 "cells": [
  {
   "cell_type": "markdown",
   "id": "f100dc6b",
   "metadata": {},
   "source": [
    "# Additional Exercises\n",
    "*Complete the tasks marked below. Be sure to insert appropriate comments in each code block.*"
   ]
  },
  {
   "cell_type": "markdown",
   "id": "43afccb8",
   "metadata": {},
   "source": [
    "The DarkSky web site allows you to extract weather data for any location for the past several years. For example: https://darksky.net/details/36.004,-78.939/2022-1-12 lists the weather for Durham on January 12th, 2022. We'll use Python to do a bit of analysis with these data..."
   ]
  },
  {
   "cell_type": "markdown",
   "id": "3d764359",
   "metadata": {},
   "source": [
    "**Task 1.** Create a list of bi-hourly temperatures from 6am to 6pm (6am, 8am, 10am, ... 6pm) in Farenheit."
   ]
  },
  {
   "cell_type": "code",
   "execution_count": null,
   "id": "4ced4123",
   "metadata": {},
   "outputs": [],
   "source": []
  },
  {
   "cell_type": "markdown",
   "id": "0bf40cb6",
   "metadata": {},
   "source": [
    "**Task 2** Iterate through the temperatures and tally their cumulative sum using an additive operator. On completion of the iteration, print the sum."
   ]
  },
  {
   "cell_type": "code",
   "execution_count": null,
   "id": "469f6fde",
   "metadata": {},
   "outputs": [],
   "source": []
  },
  {
   "cell_type": "markdown",
   "id": "463a0f6f",
   "metadata": {},
   "source": [
    "**Task 3** Using Python, compute how many records were below freezing (32°F)"
   ]
  },
  {
   "cell_type": "code",
   "execution_count": null,
   "id": "dde450b2",
   "metadata": {},
   "outputs": [],
   "source": []
  },
  {
   "cell_type": "markdown",
   "id": "68a92fba",
   "metadata": {},
   "source": [
    "**Task 4** Extract the temperature recorded at 10am (the 3rd record). Convert this temperature from farenheit to celsius ($°C = (°F - 32) * 5/9$), and report as a formatted string:  \n",
    "`At 10am on Jan 12, 2022, it was X degrees C in Durham, NC`  \n",
    "where \"X\" is the temperature calculated above"
   ]
  },
  {
   "cell_type": "code",
   "execution_count": null,
   "id": "d69fd8d1",
   "metadata": {},
   "outputs": [],
   "source": []
  }
 ],
 "metadata": {
  "kernelspec": {
   "display_name": "Python 3",
   "language": "python",
   "name": "python3"
  },
  "language_info": {
   "codemirror_mode": {
    "name": "ipython",
    "version": 3
   },
   "file_extension": ".py",
   "mimetype": "text/x-python",
   "name": "python",
   "nbconvert_exporter": "python",
   "pygments_lexer": "ipython3",
   "version": "3.9.11"
  }
 },
 "nbformat": 4,
 "nbformat_minor": 5
}
