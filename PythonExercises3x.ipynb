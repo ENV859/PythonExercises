{
 "cells": [
  {
   "cell_type": "markdown",
   "metadata": {},
   "source": [
    "# Control flow"
   ]
  },
  {
   "cell_type": "markdown",
   "metadata": {},
   "source": [
    "## Habitat model\n",
    "Studies have shown that the a good place to look for the elusive JaMeenie cricket are cool, dry areas that are mostly forested. We want to create a simple block of Python code to easily determine whether a given location is likely to be cricket habitat. Of course, in order to do that, we need more precise definitions of what \"cool\" and \"dry\" areas are. For now, we'll use the following definitions:\n",
    "\n",
    "* A \"cool\" area as *either* having (1) an aspect **above 330°** or **below 55°** (if north = 0°), or (2) at or above an altitude of **1200m**.\n",
    "* \"Dry\" areas are those that (1) are **beyond 200m** of any lake *or* stream, *or* (2) have soils that promote quick runoff ([soil runoff class](http://www.arcgis.com/home/item.html?id=13ba4d60a04f40049aa65fbebb4069b3) of **\"High\" or \"Very High\"**)."
   ]
  },
  {
   "cell_type": "markdown",
   "metadata": {},
   "source": [
    "We've already constructed a geospatial model that computes, for a given location, aspect, elevation, distance to lake, distance to stream, soil runoff class, and percent forest within 350 m. That model spits out a value for each of these variables, shown in the code cell below for one example location."
   ]
  },
  {
   "cell_type": "code",
   "execution_count": 36,
   "metadata": {},
   "outputs": [],
   "source": [
    "#Data for location 1\n",
    "aspect = 13\n",
    "elevation = 950\n",
    "distance_to_lake = 440\n",
    "distance_to_stream = 220\n",
    "soil_runoff_class = \"High\""
   ]
  },
  {
   "cell_type": "markdown",
   "metadata": {},
   "source": [
    "What we want to do next is write Python code that easily computes, based on value of the above variables, whether a location is worth looking for the JaMeenie cricket or not. "
   ]
  },
  {
   "cell_type": "markdown",
   "metadata": {},
   "source": [
    "## Starting slow\n",
    "* We'll take this slow at first, writing statements for each condition. By not doing too much at once, we can isolate any typos or bugs..."
   ]
  },
  {
   "cell_type": "code",
   "execution_count": 37,
   "metadata": {},
   "outputs": [],
   "source": [
    "#Aspect criteria\n",
    "aspect_TF = aspect > 330 or aspect < 55"
   ]
  },
  {
   "cell_type": "code",
   "execution_count": 38,
   "metadata": {},
   "outputs": [],
   "source": [
    "#Elevation criteria\n",
    "elevation_TF = elevation >= 1200"
   ]
  },
  {
   "cell_type": "code",
   "execution_count": 39,
   "metadata": {},
   "outputs": [],
   "source": [
    "#Distance to lake\n",
    "distance_to_lake_TF = distance_to_lake < 200"
   ]
  },
  {
   "cell_type": "code",
   "execution_count": 40,
   "metadata": {},
   "outputs": [],
   "source": [
    "#Distance to stream\n",
    "distance_to_stream_TF = distance_to_stream < 200"
   ]
  },
  {
   "cell_type": "code",
   "execution_count": 41,
   "metadata": {},
   "outputs": [],
   "source": [
    "#Soil runoff classs\n",
    "soil_runoff_TF = soil_runoff_class == \"High\" or soil_runoff_class == \"Very High\""
   ]
  },
  {
   "cell_type": "code",
   "execution_count": 42,
   "metadata": {},
   "outputs": [
    {
     "data": {
      "text/plain": [
       "True"
      ]
     },
     "execution_count": 42,
     "metadata": {},
     "output_type": "execute_result"
    }
   ],
   "source": [
    "# Another way to calculate the soil runoff class\n",
    "\"High\" in soil_runoff_class"
   ]
  },
  {
   "cell_type": "markdown",
   "metadata": {},
   "source": [
    "* Next, let's just see if the location meets the \"cool\" condition"
   ]
  },
  {
   "cell_type": "code",
   "execution_count": 43,
   "metadata": {},
   "outputs": [
    {
     "name": "stdout",
     "output_type": "stream",
     "text": [
      "True\n"
     ]
    }
   ],
   "source": [
    "cool_TF = aspect_TF or elevation_TF\n",
    "print(cool_TF)"
   ]
  },
  {
   "cell_type": "markdown",
   "metadata": {},
   "source": [
    "* Now, the dry condition"
   ]
  },
  {
   "cell_type": "code",
   "execution_count": 44,
   "metadata": {},
   "outputs": [
    {
     "name": "stdout",
     "output_type": "stream",
     "text": [
      "True\n"
     ]
    }
   ],
   "source": [
    "dry_TF = (distance_to_lake_TF and distance_to_stream_TF) or soil_runoff_TF\n",
    "print(dry_TF)"
   ]
  },
  {
   "cell_type": "markdown",
   "metadata": {},
   "source": [
    "* Combine them all"
   ]
  },
  {
   "cell_type": "code",
   "execution_count": 45,
   "metadata": {},
   "outputs": [
    {
     "data": {
      "text/plain": [
       "True"
      ]
     },
     "execution_count": 45,
     "metadata": {},
     "output_type": "execute_result"
    }
   ],
   "source": [
    "cool_TF and dry_TF"
   ]
  },
  {
   "cell_type": "markdown",
   "metadata": {},
   "source": [
    "► So, should we plan a trip to location 1 in search for the cricket?"
   ]
  },
  {
   "cell_type": "markdown",
   "metadata": {},
   "source": [
    "## Streamlining our script\n",
    "The above works well and is quite readable, but we can condense the code a bit so its more useable with other code. Let's have a go at combining the lines above while keeping it readable, or \"Pythonic\""
   ]
  },
  {
   "cell_type": "code",
   "execution_count": 63,
   "metadata": {},
   "outputs": [
    {
     "name": "stdout",
     "output_type": "stream",
     "text": [
      "True\n"
     ]
    }
   ],
   "source": [
    "habitat_TF = (((aspect > 330 or aspect < 55) or \n",
    "               (elevation > 1200))\n",
    "              and\n",
    "              ((distance_to_lake < 200 and distance_to_stream < 200) or \n",
    "               (soil_runoff_class == \"High\" or soil_runoff_class == \"Very High\")))\n",
    "print(habitat_TF)"
   ]
  },
  {
   "cell_type": "markdown",
   "metadata": {},
   "source": [
    "## Re-using our script\n",
    "Let's check to see if location 2 is worth visiting"
   ]
  },
  {
   "cell_type": "code",
   "execution_count": 68,
   "metadata": {},
   "outputs": [],
   "source": [
    "#Data for location 2\n",
    "aspect = 60\n",
    "elevation = 1400\n",
    "distance_to_lake = 120\n",
    "distance_to_stream = 220\n",
    "soil_runoff_class = \"Ponded\""
   ]
  },
  {
   "cell_type": "code",
   "execution_count": 69,
   "metadata": {},
   "outputs": [
    {
     "name": "stdout",
     "output_type": "stream",
     "text": [
      "False\n"
     ]
    }
   ],
   "source": [
    "habitat_TF = (((aspect > 330 or aspect < 55) or \n",
    "               (elevation > 1200))\n",
    "              and\n",
    "              ((distance_to_lake < 200 and distance_to_stream < 200) or \n",
    "               (soil_runoff_class == \"High\" or soil_runoff_class == \"Very High\")))\n",
    "print(habitat_TF)"
   ]
  },
  {
   "cell_type": "markdown",
   "metadata": {},
   "source": [
    "What if we actually found location 2 was 80m from a stream, not 220?"
   ]
  },
  {
   "cell_type": "code",
   "execution_count": 72,
   "metadata": {},
   "outputs": [],
   "source": [
    "distance_to_stream = 80"
   ]
  },
  {
   "cell_type": "code",
   "execution_count": 73,
   "metadata": {},
   "outputs": [
    {
     "name": "stdout",
     "output_type": "stream",
     "text": [
      "True\n"
     ]
    }
   ],
   "source": [
    "habitat_TF = (((aspect > 330 or aspect < 55) or \n",
    "               (elevation > 1200))\n",
    "              and\n",
    "              ((distance_to_lake < 200 and distance_to_stream < 200) or \n",
    "               (soil_runoff_class == \"High\" or soil_runoff_class == \"Very High\")))\n",
    "print(habitat_TF)"
   ]
  }
 ],
 "metadata": {
  "kernelspec": {
   "display_name": "Python 3",
   "language": "python",
   "name": "python3"
  },
  "language_info": {
   "codemirror_mode": {
    "name": "ipython",
    "version": 3
   },
   "file_extension": ".py",
   "mimetype": "text/x-python",
   "name": "python",
   "nbconvert_exporter": "python",
   "pygments_lexer": "ipython3",
   "version": "3.6.6"
  }
 },
 "nbformat": 4,
 "nbformat_minor": 2
}
