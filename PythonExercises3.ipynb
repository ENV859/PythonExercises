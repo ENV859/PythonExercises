{
 "cells": [
  {
   "cell_type": "markdown",
   "metadata": {},
   "source": [
    "## Python Exercises - Session 3\n",
    "The exercises below are organized to match [A Whirlwind Tour of Python (VanderPlas)](http://www.oreilly.com/programming/free/files/a-whirlwind-tour-of-python.pdf). Specific pages are referenced in the various sections. These are designed to run using Python 3.6.\n",
    "\n",
    "Follow the guidelines below. Where necessary replace the ellipses (`...`) with the appropriate code in the code blocks, the run the code by pressing ctrl-enter. Be sure to save your document before closing. "
   ]
  },
  {
   "cell_type": "markdown",
   "metadata": {},
   "source": [
    "### 6. Conditional Statements: \n",
    "1. `if`, `elif`, and `else`\n",
    "* `for` loops\n",
    "* `while` loops\n",
    "* `break` and `continue`"
   ]
  },
  {
   "cell_type": "markdown",
   "metadata": {},
   "source": [
    "---\n",
    "#### 6.1 `if`, `elif`, and `else`"
   ]
  },
  {
   "cell_type": "markdown",
   "metadata": {},
   "source": [
    "* 6.1.1 Modify the code below so it works"
   ]
  },
  {
   "cell_type": "code",
   "execution_count": null,
   "metadata": {},
   "outputs": [],
   "source": [
    "wind_speed = 10\n",
    "if wind_speed is less than 5 print \"Too slow\""
   ]
  },
  {
   "cell_type": "markdown",
   "metadata": {},
   "source": [
    "---\n",
    "* 6.2.1 Write code that (1) assigns a value to the variable \"elev_feet\" and then (2) prints \"Higher than Durham\" if the value is > 404. "
   ]
  },
  {
   "cell_type": "code",
   "execution_count": 6,
   "metadata": {},
   "outputs": [
    {
     "name": "stdout",
     "output_type": "stream",
     "text": [
      "Higher than Durham\n"
     ]
    }
   ],
   "source": [
    "elev_feet = 505\n",
    "if elev_feet > 404: \n",
    "    print(\"Higher than Durham\")"
   ]
  },
  {
   "cell_type": "markdown",
   "metadata": {},
   "source": [
    "* 6.2.2 Modify the above code to print (\"Same elevation as Durham\") if the value is equal to 404."
   ]
  },
  {
   "cell_type": "code",
   "execution_count": 11,
   "metadata": {},
   "outputs": [
    {
     "name": "stdout",
     "output_type": "stream",
     "text": [
      "Same elevation as Durham\n"
     ]
    }
   ],
   "source": [
    "elev_feet = 404\n",
    "if elev_feet > 404: \n",
    "    print(\"Higher than Durham\")\n",
    "elif elev_feet == 404:\n",
    "    print(\"Same elevation as Durham\")"
   ]
  },
  {
   "cell_type": "markdown",
   "metadata": {},
   "source": [
    "* 6.2.3 Modify the above code to print (\"Lower than Durham\") if none of the above conditions are true."
   ]
  },
  {
   "cell_type": "code",
   "execution_count": 10,
   "metadata": {},
   "outputs": [
    {
     "name": "stdout",
     "output_type": "stream",
     "text": [
      "Lower than Durham\n"
     ]
    }
   ],
   "source": [
    "elev_feet = 123\n",
    "if elev_feet > 404: \n",
    "    print(\"Higher than Durham\")\n",
    "elif elev_feet == 404:\n",
    "    print(\"Same elevation as Durham\")\n",
    "else: \n",
    "    print(\"Lower than Durham\")"
   ]
  },
  {
   "cell_type": "markdown",
   "metadata": {},
   "source": [
    "* 6.2.4 Modify the above code so that it can accept elev_meters in meters (feet = meters * 3.28084"
   ]
  },
  {
   "cell_type": "code",
   "execution_count": null,
   "metadata": {},
   "outputs": [],
   "source": [
    "elev_feet = 123\n",
    "e\n",
    "if elev_feet > 404: \n",
    "    print(\"Higher than Durham\")\n",
    "elif elev_feet == 404:\n",
    "    print(\"Same elevation as Durham\")\n",
    "else: \n",
    "    print(\"Lower than Durham\")"
   ]
  },
  {
   "cell_type": "markdown",
   "metadata": {},
   "source": [
    "#### 6.2 `for` loops"
   ]
  },
  {
   "cell_type": "markdown",
   "metadata": {},
   "source": [
    "6."
   ]
  },
  {
   "cell_type": "markdown",
   "metadata": {},
   "source": [
    "#### 6.3 `while` loops"
   ]
  },
  {
   "cell_type": "markdown",
   "metadata": {},
   "source": [
    "#### 6.4 `break` and `continue`"
   ]
  }
 ],
 "metadata": {
  "kernelspec": {
   "display_name": "Python 3",
   "language": "python",
   "name": "python3"
  },
  "language_info": {
   "codemirror_mode": {
    "name": "ipython",
    "version": 3
   },
   "file_extension": ".py",
   "mimetype": "text/x-python",
   "name": "python",
   "nbconvert_exporter": "python",
   "pygments_lexer": "ipython3",
   "version": "3.6.6"
  }
 },
 "nbformat": 4,
 "nbformat_minor": 2
}
