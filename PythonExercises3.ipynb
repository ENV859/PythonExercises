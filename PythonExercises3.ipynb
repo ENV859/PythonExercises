{
 "cells": [
  {
   "cell_type": "markdown",
   "metadata": {},
   "source": [
    "## Python Exercises - Session 3\n",
    "The exercises below are organized to match [A Whirlwind Tour of Python (VanderPlas)](http://www.oreilly.com/programming/free/files/a-whirlwind-tour-of-python.pdf). Specific pages are referenced in the various sections. These are designed to run using Python 3.6.\n",
    "\n",
    "Follow the guidelines below. Where necessary replace the ellipses (`...`) with the appropriate code in the code blocks, the run the code by pressing ctrl-enter. Be sure to save your document before closing. "
   ]
  },
  {
   "cell_type": "markdown",
   "metadata": {},
   "source": [
    "### 6. Conditional Statements: \n",
    "1. `if`, `elif`, and `else`\n",
    "* `for` loops\n",
    "* `while` loops\n",
    "* `break` and `continue`"
   ]
  },
  {
   "cell_type": "markdown",
   "metadata": {},
   "source": [
    "---\n",
    "#### 6.1 `if`, `elif`, and `else`"
   ]
  },
  {
   "cell_type": "markdown",
   "metadata": {},
   "source": [
    "* 6.1.1 Modify the code below so it works"
   ]
  },
  {
   "cell_type": "code",
   "execution_count": null,
   "metadata": {},
   "outputs": [],
   "source": [
    "wind_speed = 10\n",
    "if wind_speed is less than 5 print \"Too slow\""
   ]
  },
  {
   "cell_type": "markdown",
   "metadata": {},
   "source": [
    "---\n",
    "* 6.1.2 Write code that (1) assigns a value to the variable \"elev_feet\" and then (2) prints \"Higher than Durham\" if the value is > 404. "
   ]
  },
  {
   "cell_type": "code",
   "execution_count": 6,
   "metadata": {},
   "outputs": [
    {
     "name": "stdout",
     "output_type": "stream",
     "text": [
      "Higher than Durham\n"
     ]
    }
   ],
   "source": [
    "elev_feet = 505\n",
    "if elev_feet > 404: \n",
    "    print(\"Higher than Durham\")"
   ]
  },
  {
   "cell_type": "markdown",
   "metadata": {},
   "source": [
    "* 6.1.3 Modify the above code to print (\"Same elevation as Durham\") if the value is equal to 404."
   ]
  },
  {
   "cell_type": "code",
   "execution_count": 11,
   "metadata": {},
   "outputs": [
    {
     "name": "stdout",
     "output_type": "stream",
     "text": [
      "Same elevation as Durham\n"
     ]
    }
   ],
   "source": [
    "elev_feet = 404\n",
    "if elev_feet > 404: \n",
    "    print(\"Higher than Durham\")\n",
    "elif elev_feet == 404:\n",
    "    print(\"Same elevation as Durham\")"
   ]
  },
  {
   "cell_type": "markdown",
   "metadata": {},
   "source": [
    "* 6.1.4 Modify the above code to print (\"Lower than Durham\") if none of the above conditions are true."
   ]
  },
  {
   "cell_type": "code",
   "execution_count": 10,
   "metadata": {},
   "outputs": [
    {
     "name": "stdout",
     "output_type": "stream",
     "text": [
      "Lower than Durham\n"
     ]
    }
   ],
   "source": [
    "elev_feet = 123\n",
    "if elev_feet > 404: \n",
    "    print(\"Higher than Durham\")\n",
    "elif elev_feet == 404:\n",
    "    print(\"Same elevation as Durham\")\n",
    "else: \n",
    "    print(\"Lower than Durham\")"
   ]
  },
  {
   "cell_type": "markdown",
   "metadata": {},
   "source": [
    "* 6.1.5 *Bonus* Modify the above code so that it can accept elev_meters in meters (feet = meters * 3.28084"
   ]
  },
  {
   "cell_type": "code",
   "execution_count": null,
   "metadata": {},
   "outputs": [],
   "source": [
    "elev_feet = 123\n",
    "e\n",
    "if elev_feet > 404: \n",
    "    print(\"Higher than Durham\")\n",
    "elif elev_feet == 404:\n",
    "    print(\"Same elevation as Durham\")\n",
    "else: \n",
    "    print(\"Lower than Durham\")"
   ]
  },
  {
   "cell_type": "markdown",
   "metadata": {},
   "source": [
    "#### 6.2 `for` loops"
   ]
  },
  {
   "cell_type": "markdown",
   "metadata": {},
   "source": [
    "* 6.2.1 Create a for loop that iterates through the items in a list of states and prints them."
   ]
  },
  {
   "cell_type": "code",
   "execution_count": 12,
   "metadata": {},
   "outputs": [
    {
     "name": "stdout",
     "output_type": "stream",
     "text": [
      "Maine\n",
      "Ohio\n",
      "Kansas\n",
      "Utah\n",
      "Alaska\n",
      "Nevada\n"
     ]
    }
   ],
   "source": [
    "states = ['Maine','Ohio','Kansas','Utah','Alaska','Nevada']\n",
    "for state in states:\n",
    "    print(state)"
   ]
  },
  {
   "cell_type": "markdown",
   "metadata": {},
   "source": [
    "* 6.2.2 Combine a for loop and the `range` function to print powers of 2 up to x**8(256)"
   ]
  },
  {
   "cell_type": "code",
   "execution_count": 18,
   "metadata": {},
   "outputs": [
    {
     "name": "stdout",
     "output_type": "stream",
     "text": [
      "0 1\n",
      "1 2\n",
      "2 4\n",
      "3 8\n",
      "4 16\n",
      "5 32\n",
      "6 64\n",
      "7 128\n",
      "8 256\n"
     ]
    }
   ],
   "source": [
    "x = 2\n",
    "for i in range(9):\n",
    "    print (i,x**i)"
   ]
  },
  {
   "cell_type": "markdown",
   "metadata": {},
   "source": [
    "* The first line in the code below reads in the contents of the NC_Providers.csv file and stores each line as item in the list lineList. Iterate through the lines in the file and print the length of each line.\n",
    " * Try using the optional parameter `end` in the print statement so no 'new line' character is printed:<br>`print(lineText,end='')`"
   ]
  },
  {
   "cell_type": "code",
   "execution_count": 23,
   "metadata": {},
   "outputs": [
    {
     "name": "stdout",
     "output_type": "stream",
     "text": [
      "SiteID,Year,Registrant,Facility,County,Subbasin,Month,# of DaysUsed,Average DailyWithdrawal (MGD),Maximum DayWithdrawal (MGD),# of DaysDischarged,Average DailyDischarge (MGD),Maximum DayDischarge (MGD),# of DaysTransferred,Average DailyTransfer (MGD),Maximum DayTransfer (MGD)\n",
      "0831-0001,2017,3M Company,3M Company,Chatham,Deep River (02-2),Jan,31,0.135,0.135,31,0.135,0.135,0,,\n",
      "0831-0001,2017,3M Company,3M Company,Chatham,Deep River (02-2),Feb,28,0.135,0.135,28,0.135,0.135,0,,\n",
      "0831-0001,2017,3M Company,3M Company,Chatham,Deep River (02-2),Mar,31,0.151,0.151,31,0.151,0.151,0,,\n",
      "0831-0001,2017,3M Company,3M Company,Chatham,Deep River (02-2),Apr,30,0.374,0.374,30,0.374,0.374,0,,\n",
      "0831-0001,2017,3M Company,3M Company,Chatham,Deep River (02-2),May,31,0.374,0.374,31,0.374,0.374,0,,\n",
      "0831-0001,2017,3M Company,3M Company,Chatham,Deep River (02-2),Jun,30,0.374,0.374,30,0.374,0.374,0,,\n",
      "0831-0001,2017,3M Company,3M Company,Chatham,Deep River (02-2),Jul,31,0.103,0.103,31,0.103,0.103,0,,\n",
      "0831-0001,2017,3M Company,3M Company,Chatham,Deep River (02-2),Aug,31,0.103,0.103,31,0.103,0.103,0,,\n",
      "0831-0001,2017,3M Company,3M Company,Chatham,Deep River (02-2),Sep,30,0.116,0.116,30,0.116,0.116,0,,\n",
      "0831-0001,2017,3M Company,3M Company,Chatham,Deep River (02-2),Oct,31,0.199,0.199,31,0.199,0.199,0,,\n",
      "0831-0001,2017,3M Company,3M Company,Chatham,Deep River (02-2),Nov,30,0.199,0.199,30,0.199,0.199,0,,\n",
      "0831-0001,2017,3M Company,3M Company,Chatham,Deep River (02-2),Dec,31,0.199,0.199,31,0.199,0.199,0,,\n"
     ]
    }
   ],
   "source": [
    "lineList = open('NC_SiteData.csv','r').readlines()\n",
    "for line in lineList:\n",
    "    print(line,end='')"
   ]
  },
  {
   "cell_type": "markdown",
   "metadata": {},
   "source": [
    "* Extact the 10th line from the lineList to a variable called `line10`. Then use the string `split()` method to break this line up into a new list called `lineData`. *(Note that this is a `csv` file, so values are separated by a comma.)* Finally print each of these items, one at a time."
   ]
  },
  {
   "cell_type": "code",
   "execution_count": 22,
   "metadata": {},
   "outputs": [
    {
     "name": "stdout",
     "output_type": "stream",
     "text": [
      "0831-0001\n",
      "2017\n",
      "3M Company\n",
      "3M Company\n",
      "Chatham\n",
      "Deep River (02-2)\n",
      "Sep\n",
      "30\n",
      "0.116\n",
      "0.116\n",
      "30\n",
      "0.116\n",
      "0.116\n",
      "0\n",
      "\n",
      "\n",
      "\n"
     ]
    }
   ],
   "source": [
    "line10 = lineList[9]\n",
    "lineData = line10.split(',')\n",
    "for lineValue in lineData:\n",
    "    print(lineValue)"
   ]
  },
  {
   "cell_type": "markdown",
   "metadata": {},
   "source": [
    "#### 6.3 `while` loops"
   ]
  },
  {
   "cell_type": "markdown",
   "metadata": {},
   "source": []
  },
  {
   "cell_type": "markdown",
   "metadata": {},
   "source": [
    "#### 6.4 `break` and `continue`"
   ]
  }
 ],
 "metadata": {
  "kernelspec": {
   "display_name": "Python 3",
   "language": "python",
   "name": "python3"
  },
  "language_info": {
   "codemirror_mode": {
    "name": "ipython",
    "version": 3
   },
   "file_extension": ".py",
   "mimetype": "text/x-python",
   "name": "python",
   "nbconvert_exporter": "python",
   "pygments_lexer": "ipython3",
   "version": "3.6.6"
  }
 },
 "nbformat": 4,
 "nbformat_minor": 2
}
