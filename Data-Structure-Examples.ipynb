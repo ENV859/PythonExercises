{
 "cells": [
  {
   "cell_type": "markdown",
   "metadata": {},
   "source": [
    "## ENV 859 - Advanced GIS\n",
    "### Data Structure Examples: <u>Lists</u> and <u>Dictionaries</u>\n",
    "In this notebook, we examine how Python **lists** can be quite a useful thing to know. Here we import some\n",
    "~~[2016 Election data for Durham](https://live-durhamnc.opendata.arcgis.com/datasets/2016-presidential-election-durham)~~ 2020 Election data for Durham ([Source](https://er.ncsbe.gov/downloads.html?election_dt=11/03/2020)) into a list object and then use list -- and string -- methods to extract data from this file. \n",
    "\n",
    "Then, we move to dictionaries, using a dataset of coliform samples recorded from [Charlotte Water](https://cltwmaps.ci.charlotte.nc.us/arcgis/rest/services/Public/CLTW_WaterQualityUpdates_2018/MapServer)."
   ]
  },
  {
   "cell_type": "markdown",
   "metadata": {},
   "source": [
    "## Lists"
   ]
  },
  {
   "cell_type": "markdown",
   "metadata": {},
   "source": [
    "* First, we'll retrieve the data using some coding techniques that we'll come back to later. Just run the cell below to generate a list of election data."
   ]
  },
  {
   "cell_type": "code",
   "execution_count": null,
   "metadata": {},
   "outputs": [],
   "source": [
    "# Get some data and convert it into a List...\n",
    "import requests\n",
    "theSite = 'https://s3.amazonaws.com/dl.ncsbe.gov/ENRS/2020_11_03/results_precinct_sort/DURHAM_PRECINCT_SORT.txt'\n",
    "response = requests.get(theSite)\n",
    "theList = response.text.split('\\r\\n')"
   ]
  },
  {
   "cell_type": "markdown",
   "metadata": {},
   "source": [
    "* Is it really a list object?"
   ]
  },
  {
   "cell_type": "code",
   "execution_count": null,
   "metadata": {},
   "outputs": [],
   "source": [
    "type(theList)"
   ]
  },
  {
   "cell_type": "markdown",
   "metadata": {},
   "source": [
    "* How many items in this list?"
   ]
  },
  {
   "cell_type": "code",
   "execution_count": null,
   "metadata": {},
   "outputs": [],
   "source": [
    "len(theList)"
   ]
  },
  {
   "cell_type": "markdown",
   "metadata": {},
   "source": [
    "* Display the first 3 items in the list..."
   ]
  },
  {
   "cell_type": "code",
   "execution_count": null,
   "metadata": {},
   "outputs": [],
   "source": [
    "theList[0:3]"
   ]
  },
  {
   "cell_type": "markdown",
   "metadata": {},
   "source": [
    "*So now we get an idea of each elememnt in the list. The first item appears to be a string containing <u>header</u> item (separated by a tab (intepreted as `\\t` in Python), and everything after that are strings containing <u>values</u>, again separated by tabs...*"
   ]
  },
  {
   "cell_type": "markdown",
   "metadata": {},
   "source": [
    "* Let's isolate that header string and `split`, generating yet another list object which we'll call \"headerList\":"
   ]
  },
  {
   "cell_type": "code",
   "execution_count": null,
   "metadata": {},
   "outputs": [],
   "source": [
    "headerList = theList[0].split('\\t')\n",
    "headerList"
   ]
  },
  {
   "cell_type": "markdown",
   "metadata": {},
   "source": [
    "*So we see what data occurs in what column. We can use that info to extract specific data elements.*"
   ]
  },
  {
   "cell_type": "markdown",
   "metadata": {},
   "source": [
    "* Grab the **1000th** line of data and print the Name, Voting Precinct, and Vote Count..."
   ]
  },
  {
   "cell_type": "code",
   "execution_count": null,
   "metadata": {},
   "outputs": [],
   "source": [
    "#Get the data line\n",
    "rec = theList[22217]\n",
    "#Split it into a list\n",
    "rec_data = rec.split('\\t')\n",
    "#Get the Name (the 1st column...)\n",
    "theName = rec_data[12]\n",
    "#Get the Precinct (the last column...)\n",
    "thePrecinct = rec_data[10]\n",
    "#Get the voting method\n",
    "theMethod = rec_data[-4]\n",
    "#Get the Vote Count\n",
    "theVoteCount = rec_data[-1]\n",
    "#Print the result\n",
    "print(f\"In the precinct {thePrecinct.strip()}, {theName} got {theVoteCount} {theMethod} votes\")"
   ]
  },
  {
   "cell_type": "markdown",
   "metadata": {},
   "source": [
    "* Change the above code to view the data from the **22218th** line...<br>\n",
    "```In the precinct 37, Roy Cooper got 2174 ONE STOP votes```\n",
    "\n",
    "→ *So you see that, once the code is set up, we can get values fairly easily!*"
   ]
  },
  {
   "cell_type": "markdown",
   "metadata": {},
   "source": [
    "---\n",
    "## Dictionaries\n",
    "Next, we'll look at dictionaries. Recall that the key difference between lists and dictionaries: In lists, objects are referenced by their position or *index*. In dictionaries, objects are referenced by their *keys*. \n",
    "\n",
    "* First we'll create a dictionary from a dataset of Coliform samples collected by [Charlotte's water monitoring program](https://cltwmaps.ci.charlotte.nc.us/arcgis/rest/services/Public). Again, don't worry about how we create this dictionary object, just that it is a dictionary and has values we can extract using dictionary methods. "
   ]
  },
  {
   "cell_type": "code",
   "execution_count": null,
   "metadata": {},
   "outputs": [],
   "source": [
    "theSite = 'https://cltwmaps.ci.charlotte.nc.us/arcgis/rest/services/Public/WaterQualityUpdates_2022/MapServer/2/query?'\n",
    "theParams = {'where':'OBJECTID>0','f':'pjson','outFields':'*'}\n",
    "theDict=requests.get(theSite,theParams).json()"
   ]
  },
  {
   "cell_type": "markdown",
   "metadata": {},
   "source": [
    "* Confirm the data type of the result"
   ]
  },
  {
   "cell_type": "code",
   "execution_count": null,
   "metadata": {},
   "outputs": [],
   "source": [
    "type(theDict)"
   ]
  },
  {
   "cell_type": "markdown",
   "metadata": {},
   "source": [
    "* What **keys** are present in the dictionary"
   ]
  },
  {
   "cell_type": "code",
   "execution_count": null,
   "metadata": {},
   "outputs": [],
   "source": [
    "theDict.keys()"
   ]
  },
  {
   "cell_type": "markdown",
   "metadata": {},
   "source": [
    "* Extract the **value** associated with the `fields` key"
   ]
  },
  {
   "cell_type": "code",
   "execution_count": null,
   "metadata": {},
   "outputs": [],
   "source": [
    "theDict['features']"
   ]
  },
  {
   "cell_type": "markdown",
   "metadata": {},
   "source": [
    "*We see that the 'features' key returns a list, and each item in this list is yet another dictionary! Madness!*"
   ]
  },
  {
   "cell_type": "code",
   "execution_count": null,
   "metadata": {},
   "outputs": [],
   "source": [
    "#Get the first feature\n",
    "theFeature = theDict['features'][0]\n",
    "theFeature.keys()"
   ]
  },
  {
   "cell_type": "code",
   "execution_count": null,
   "metadata": {},
   "outputs": [],
   "source": [
    "theFeature['attributes']"
   ]
  },
  {
   "cell_type": "markdown",
   "metadata": {},
   "source": [
    " * Now, with a simple loop (which we'll learn shortly) we can run through the first 20 features returned by pulling the `features` items from original \"theDict\" dictionary. And for each of these \"feature\" items, which is a dictionary itself, we can extract the values associated with the `attribute` key, which again is a dictionary. And finally, we extact the `address` and the `result` objects, and print those out..."
   ]
  },
  {
   "cell_type": "code",
   "execution_count": null,
   "metadata": {},
   "outputs": [],
   "source": [
    "for theFeature in theDict['features'][:20]: \n",
    "    theAttributeDict = theFeature['attributes']\n",
    "    theAddress = theAttributeDict['Address']\n",
    "    theResult = theAttributeDict['Violation']\n",
    "    print(theResult,'\\t',theAddress)"
   ]
  }
 ],
 "metadata": {
  "kernelspec": {
   "display_name": "Python 3",
   "language": "python",
   "name": "python3"
  },
  "language_info": {
   "codemirror_mode": {
    "name": "ipython",
    "version": 3
   },
   "file_extension": ".py",
   "mimetype": "text/x-python",
   "name": "python",
   "nbconvert_exporter": "python",
   "pygments_lexer": "ipython3",
   "version": "3.9.11"
  }
 },
 "nbformat": 4,
 "nbformat_minor": 2
}
