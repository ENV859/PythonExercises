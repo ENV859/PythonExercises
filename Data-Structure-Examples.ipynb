{
 "cells": [
  {
   "cell_type": "markdown",
   "metadata": {},
   "source": [
    "### ENV 859 - Advanced GIS\n",
    "#### Data Structure Examples\n",
    "We'll look at some [Durham bike parking data](https://opendurham.nc.gov/explore/dataset/durham-bike-parking) as an example of how lists and dictionaries can be useful. There's some code peppered in here that jumps ahead a bit. Don't worry if that code makes little sense now; we'll come back to it later. "
   ]
  },
  {
   "cell_type": "markdown",
   "metadata": {},
   "source": [
    "### 1. Lists"
   ]
  },
  {
   "cell_type": "code",
   "execution_count": 19,
   "metadata": {},
   "outputs": [],
   "source": [
    "# Get some data and convert it into a List...\n",
    "import requests\n",
    "theData = requests.get('https://opendurham.nc.gov/explore/dataset/enviroatlas/download/?format=csv').text\n",
    "theList = theData.split(\"\\n\")"
   ]
  },
  {
   "cell_type": "markdown",
   "metadata": {},
   "source": [
    "Make sure it's a list object"
   ]
  },
  {
   "cell_type": "code",
   "execution_count": 15,
   "metadata": {},
   "outputs": [
    {
     "data": {
      "text/plain": [
       "list"
      ]
     },
     "execution_count": 15,
     "metadata": {},
     "output_type": "execute_result"
    }
   ],
   "source": [
    "type(theList)"
   ]
  },
  {
   "cell_type": "markdown",
   "metadata": {},
   "source": [
    "How many items in this list?"
   ]
  },
  {
   "cell_type": "code",
   "execution_count": 20,
   "metadata": {},
   "outputs": [
    {
     "data": {
      "text/plain": [
       "195"
      ]
     },
     "execution_count": 20,
     "metadata": {},
     "output_type": "execute_result"
    }
   ],
   "source": [
    "len(theList)"
   ]
  },
  {
   "cell_type": "markdown",
   "metadata": {},
   "source": [
    "Display the first item in the list..."
   ]
  },
  {
   "cell_type": "code",
   "execution_count": 21,
   "metadata": {
    "collapsed": true
   },
   "outputs": [
    {
     "data": {
      "text/plain": [
       "'objectid;state_fips;county_fips;tract_fips;block_group_id;enviroatlas_community_name;enviroatlas_community_code;value_of_hospital_admissions_avoided_due_to_nitrogen_dioxide_removed_yr;asthma_exacerbation_avoided_due_to_nitrogen_dioxide_removed_cases_yr;value_of_asthma_exacerbation_cases_avoided_due_to_nitrogen_dioxide_removed_yr;acute_respiratory_symptoms_avoided_due_to_ozone_removed_cases_yr;value_of_mortality_avoided_due_to_ozone_removed_yr;school_days_not_lost_to_illness_due_to_ozone_removed_days_yr;value_of_school_days_not_lost_to_illness_due_to_ozone_removed_yr;acute_respiratory_symptoms_avoided_due_to_particulate_matter_pm2_5_removed_cases_yr;value_of_mortality_avoided_due_to_particulate_matter_pm2_5_removed_yr;asthma_exacerbation_avoided_due_to_sulfur_dioxide_removed_cases_yr;value_of_asthma_exacerbation_cases_avoided_due_to_sulfur_dioxide_removed_yr;value_of_hospital_admissions_avoided_due_to_sulfur_dioxide_removed_yr;total_population;population_under_1_year_old;percent_population_under_1_year_old;population_under_13_years_old;percent_population_under_13_years_old;population_over_70_years_old;percent_population_over_70_years_old;population_other_than_white_non_hispanic;percent_population_other_than_white_non_hispanic;population_with_income_below_twice_the_poverty_level;percent_population_with_income_below_twice_the_poverty_level;block_group;number_of_daycares;day_care_centers_with_25_percent_green_space_in_viewshed;number_of_schools_k_12;k_12_schools_with_25_percent_green_space_in_viewshed;total_carbon_stored_kg;total_carbon_sequestered_kg_yr;value_of_carbon_stored;value_of_carbon_sequestered_yr;average_reduction_in_nighttime_ambient_temperature_celsius;average_reduction_in_daytime_ambient_temperature_celsius;carbon_monoxide_kg_yr;nitrogen_dioxide_kg_yr;ozone_kg_yr;particulate_matter_pm2_5_kg_yr;sulfur_dioxide_kg_yr;particulate_matter_pm10_kg_yr;value_of_health_ecosystem_and_materials_damage_avoided_due_to_particulate_matter_pm10_removed_yr;value_of_health_ecosystem_and_materials_damage_avoided_due_to_carbon_monoxide_removed_yr;percent_reduction_in_annual_runoff;reduction_in_annual_runoff_m3_yr;reduction_in_median_load_of_total_suspended_solids_tss_kg_yr;reduction_in_median_biochemical_oxygen_demand_bod5_kg_yr;reduction_in_median_chemical_oxygen_demand_cod_kg_yr;reduction_in_median_load_of_total_phosphorus_kg_yr;reduction_in_median_load_of_soluble_phosphorus_kg_yr;reduction_in_median_load_of_total_kjeldahl_nitrogen_tkn_kg_yr;reduction_in_median_load_of_nitrites_and_nitrates_kg_yr;reduction_in_median_load_of_copper_kg_yr;reduction_in_mean_load_of_total_suspended_solids_tss_kg_yr;reduction_in_mean_biochemical_oxygen_demand_bod5_kg_yr;reduction_in_mean_chemical_oxygen_demand_cod_kg_yr;reduction_in_mean_load_of_total_phosphorus_kg_yr;reduction_in_mean_load_of_soluble_phosphorus_kg_yr;reduction_in_mean_load_of_total_kjeldahl_nitrogen_tkn_kg_yr;reduction_in_mean_load_of_nitrites_and_nitrates_kg_yr;reduction_in_mean_load_of_copper_kg_yr;total_carbon_stored_mt;total_carbon_sequestered_mt_yr;percent_tree_cover;percent_impervious_area;percent_green_space;percent_agriculture;percent_wetlands;tree_cover_per_capita_m2_person;impervious_area_per_capita_m2_person;green_space_per_capita_m2_person;agricultural_land_per_capita_m2_person;total_land_area_in_50m_buffer_m2;percent_land_area_in_50m_buffer;percent_impervious_area_in_50m_buffer;percent_tree_cover_in_50m_buffer;percent_vegetated_cover_in_50m_buffer;total_land_area_in_15m_buffer_m2;percent_land_area_in_15m_buffer;percent_impervious_area_in_15m_buffer;percent_tree_cover_in_15m_buffer;percent_vegetated_cover_in_15m_buffer;residential_population_within_300m_of_busy_roadway_with_25_percent_tree_buffer;residential_population_within_300m_of_busy_roadway_with_25_percent_tree_buffer0;residential_population_within_300m_of_busy_roadway;percent_of_residential_population_within_300m_of_busy_roadway;percent_of_busy_roadway_bordered_by_25_percent_tree_buffer;percent_of_busy_roadway_bordered_by_25_percent_tree_buffer0;residential_population_within_500m_of_a_park_entrance;residential_population_not_within_500m_of_a_park_entrance;percent_of_residential_population_within_500m_of_a_park_entrance;percent_of_residential_population_not_within_500m_of_a_park_entrance;residential_population_with_minimal_views_of_trees;percent_of_residential_population_with_minimal_views_of_trees;residential_population_with_views_of_water;percent_of_residential_population_with_views_of_water;number_of_historic_places;percent_carbon_monoxide;percent_nitrogen_dioxide;percent_ozone;percent_particulate_matter_pm10;percent_particulate_matter_pm2_5;percent_sulfur_dioxide;daily_domestic_use_x1000_gal_day;bgrp;shape_length;shape_area;geo_shape;geo_point_2d\\r'"
      ]
     },
     "execution_count": 21,
     "metadata": {},
     "output_type": "execute_result"
    }
   ],
   "source": [
    "theList[0]"
   ]
  },
  {
   "cell_type": "markdown",
   "metadata": {},
   "source": [
    "Yikes, that's one long string. But actually, that first item in the list is the first row in the dataset, i.e., the header row. And each header item is separated by a semicolon. So... let's break this first list item into yet another list. Since the item is just a string, we can use the string's `split` method to split the string into a *list* of sub-strings. "
   ]
  },
  {
   "cell_type": "code",
   "execution_count": 23,
   "metadata": {},
   "outputs": [
    {
     "data": {
      "text/plain": [
       "['objectid',\n",
       " 'state_fips',\n",
       " 'county_fips',\n",
       " 'tract_fips',\n",
       " 'block_group_id',\n",
       " 'enviroatlas_community_name',\n",
       " 'enviroatlas_community_code',\n",
       " 'value_of_hospital_admissions_avoided_due_to_nitrogen_dioxide_removed_yr',\n",
       " 'asthma_exacerbation_avoided_due_to_nitrogen_dioxide_removed_cases_yr',\n",
       " 'value_of_asthma_exacerbation_cases_avoided_due_to_nitrogen_dioxide_removed_yr',\n",
       " 'acute_respiratory_symptoms_avoided_due_to_ozone_removed_cases_yr',\n",
       " 'value_of_mortality_avoided_due_to_ozone_removed_yr',\n",
       " 'school_days_not_lost_to_illness_due_to_ozone_removed_days_yr',\n",
       " 'value_of_school_days_not_lost_to_illness_due_to_ozone_removed_yr',\n",
       " 'acute_respiratory_symptoms_avoided_due_to_particulate_matter_pm2_5_removed_cases_yr',\n",
       " 'value_of_mortality_avoided_due_to_particulate_matter_pm2_5_removed_yr',\n",
       " 'asthma_exacerbation_avoided_due_to_sulfur_dioxide_removed_cases_yr',\n",
       " 'value_of_asthma_exacerbation_cases_avoided_due_to_sulfur_dioxide_removed_yr',\n",
       " 'value_of_hospital_admissions_avoided_due_to_sulfur_dioxide_removed_yr',\n",
       " 'total_population',\n",
       " 'population_under_1_year_old',\n",
       " 'percent_population_under_1_year_old',\n",
       " 'population_under_13_years_old',\n",
       " 'percent_population_under_13_years_old',\n",
       " 'population_over_70_years_old',\n",
       " 'percent_population_over_70_years_old',\n",
       " 'population_other_than_white_non_hispanic',\n",
       " 'percent_population_other_than_white_non_hispanic',\n",
       " 'population_with_income_below_twice_the_poverty_level',\n",
       " 'percent_population_with_income_below_twice_the_poverty_level',\n",
       " 'block_group',\n",
       " 'number_of_daycares',\n",
       " 'day_care_centers_with_25_percent_green_space_in_viewshed',\n",
       " 'number_of_schools_k_12',\n",
       " 'k_12_schools_with_25_percent_green_space_in_viewshed',\n",
       " 'total_carbon_stored_kg',\n",
       " 'total_carbon_sequestered_kg_yr',\n",
       " 'value_of_carbon_stored',\n",
       " 'value_of_carbon_sequestered_yr',\n",
       " 'average_reduction_in_nighttime_ambient_temperature_celsius',\n",
       " 'average_reduction_in_daytime_ambient_temperature_celsius',\n",
       " 'carbon_monoxide_kg_yr',\n",
       " 'nitrogen_dioxide_kg_yr',\n",
       " 'ozone_kg_yr',\n",
       " 'particulate_matter_pm2_5_kg_yr',\n",
       " 'sulfur_dioxide_kg_yr',\n",
       " 'particulate_matter_pm10_kg_yr',\n",
       " 'value_of_health_ecosystem_and_materials_damage_avoided_due_to_particulate_matter_pm10_removed_yr',\n",
       " 'value_of_health_ecosystem_and_materials_damage_avoided_due_to_carbon_monoxide_removed_yr',\n",
       " 'percent_reduction_in_annual_runoff',\n",
       " 'reduction_in_annual_runoff_m3_yr',\n",
       " 'reduction_in_median_load_of_total_suspended_solids_tss_kg_yr',\n",
       " 'reduction_in_median_biochemical_oxygen_demand_bod5_kg_yr',\n",
       " 'reduction_in_median_chemical_oxygen_demand_cod_kg_yr',\n",
       " 'reduction_in_median_load_of_total_phosphorus_kg_yr',\n",
       " 'reduction_in_median_load_of_soluble_phosphorus_kg_yr',\n",
       " 'reduction_in_median_load_of_total_kjeldahl_nitrogen_tkn_kg_yr',\n",
       " 'reduction_in_median_load_of_nitrites_and_nitrates_kg_yr',\n",
       " 'reduction_in_median_load_of_copper_kg_yr',\n",
       " 'reduction_in_mean_load_of_total_suspended_solids_tss_kg_yr',\n",
       " 'reduction_in_mean_biochemical_oxygen_demand_bod5_kg_yr',\n",
       " 'reduction_in_mean_chemical_oxygen_demand_cod_kg_yr',\n",
       " 'reduction_in_mean_load_of_total_phosphorus_kg_yr',\n",
       " 'reduction_in_mean_load_of_soluble_phosphorus_kg_yr',\n",
       " 'reduction_in_mean_load_of_total_kjeldahl_nitrogen_tkn_kg_yr',\n",
       " 'reduction_in_mean_load_of_nitrites_and_nitrates_kg_yr',\n",
       " 'reduction_in_mean_load_of_copper_kg_yr',\n",
       " 'total_carbon_stored_mt',\n",
       " 'total_carbon_sequestered_mt_yr',\n",
       " 'percent_tree_cover',\n",
       " 'percent_impervious_area',\n",
       " 'percent_green_space',\n",
       " 'percent_agriculture',\n",
       " 'percent_wetlands',\n",
       " 'tree_cover_per_capita_m2_person',\n",
       " 'impervious_area_per_capita_m2_person',\n",
       " 'green_space_per_capita_m2_person',\n",
       " 'agricultural_land_per_capita_m2_person',\n",
       " 'total_land_area_in_50m_buffer_m2',\n",
       " 'percent_land_area_in_50m_buffer',\n",
       " 'percent_impervious_area_in_50m_buffer',\n",
       " 'percent_tree_cover_in_50m_buffer',\n",
       " 'percent_vegetated_cover_in_50m_buffer',\n",
       " 'total_land_area_in_15m_buffer_m2',\n",
       " 'percent_land_area_in_15m_buffer',\n",
       " 'percent_impervious_area_in_15m_buffer',\n",
       " 'percent_tree_cover_in_15m_buffer',\n",
       " 'percent_vegetated_cover_in_15m_buffer',\n",
       " 'residential_population_within_300m_of_busy_roadway_with_25_percent_tree_buffer',\n",
       " 'residential_population_within_300m_of_busy_roadway_with_25_percent_tree_buffer0',\n",
       " 'residential_population_within_300m_of_busy_roadway',\n",
       " 'percent_of_residential_population_within_300m_of_busy_roadway',\n",
       " 'percent_of_busy_roadway_bordered_by_25_percent_tree_buffer',\n",
       " 'percent_of_busy_roadway_bordered_by_25_percent_tree_buffer0',\n",
       " 'residential_population_within_500m_of_a_park_entrance',\n",
       " 'residential_population_not_within_500m_of_a_park_entrance',\n",
       " 'percent_of_residential_population_within_500m_of_a_park_entrance',\n",
       " 'percent_of_residential_population_not_within_500m_of_a_park_entrance',\n",
       " 'residential_population_with_minimal_views_of_trees',\n",
       " 'percent_of_residential_population_with_minimal_views_of_trees',\n",
       " 'residential_population_with_views_of_water',\n",
       " 'percent_of_residential_population_with_views_of_water',\n",
       " 'number_of_historic_places',\n",
       " 'percent_carbon_monoxide',\n",
       " 'percent_nitrogen_dioxide',\n",
       " 'percent_ozone',\n",
       " 'percent_particulate_matter_pm10',\n",
       " 'percent_particulate_matter_pm2_5',\n",
       " 'percent_sulfur_dioxide',\n",
       " 'daily_domestic_use_x1000_gal_day',\n",
       " 'bgrp',\n",
       " 'shape_length',\n",
       " 'shape_area',\n",
       " 'geo_shape',\n",
       " 'geo_point_2d\\r']"
      ]
     },
     "execution_count": 23,
     "metadata": {},
     "output_type": "execute_result"
    }
   ],
   "source": [
    "headers = theList[0].split(';')\n",
    "headers"
   ]
  },
  {
   "cell_type": "markdown",
   "metadata": {},
   "source": [
    "To which column does the 'tract_fips' belong? In other words, what is the index for the 'tract_fips' column?"
   ]
  },
  {
   "cell_type": "code",
   "execution_count": 34,
   "metadata": {},
   "outputs": [
    {
     "data": {
      "text/plain": [
       "3"
      ]
     },
     "execution_count": 34,
     "metadata": {},
     "output_type": "execute_result"
    }
   ],
   "source": [
    "headers.index('tract_fips')"
   ]
  },
  {
   "cell_type": "markdown",
   "metadata": {},
   "source": [
    "What is the tract_fips for the 20th row of the dataset."
   ]
  },
  {
   "cell_type": "code",
   "execution_count": 33,
   "metadata": {},
   "outputs": [
    {
     "data": {
      "text/plain": [
       "'000302'"
      ]
     },
     "execution_count": 33,
     "metadata": {},
     "output_type": "execute_result"
    }
   ],
   "source": [
    "#What is the tract_fips item\n",
    "theList[19].split(';')[3]"
   ]
  },
  {
   "cell_type": "markdown",
   "metadata": {},
   "source": [
    "Now you try it: What is the index for the 'ozone_kg_yr' column? (Should be 43)"
   ]
  },
  {
   "cell_type": "code",
   "execution_count": 35,
   "metadata": {},
   "outputs": [
    {
     "data": {
      "text/plain": [
       "43"
      ]
     },
     "execution_count": 35,
     "metadata": {},
     "output_type": "execute_result"
    }
   ],
   "source": [
    "headers.index('ozone_kg_yr')"
   ]
  },
  {
   "cell_type": "markdown",
   "metadata": {},
   "source": [
    "What's the `tract_fips` value for the 30 row of the dataset? "
   ]
  },
  {
   "cell_type": "code",
   "execution_count": 29,
   "metadata": {},
   "outputs": [
    {
     "data": {
      "text/plain": [
       "'002200'"
      ]
     },
     "execution_count": 29,
     "metadata": {},
     "output_type": "execute_result"
    }
   ],
   "source": [
    "theList[29].split(';')[tract_fips_idx]"
   ]
  },
  {
   "cell_type": "markdown",
   "metadata": {},
   "source": [
    "And what about the 'ozone_kg_yr'?"
   ]
  },
  {
   "cell_type": "code",
   "execution_count": 30,
   "metadata": {},
   "outputs": [
    {
     "data": {
      "text/plain": [
       "'1407.16711'"
      ]
     },
     "execution_count": 30,
     "metadata": {},
     "output_type": "execute_result"
    }
   ],
   "source": [
    "theList[29].split(';')[43]"
   ]
  },
  {
   "cell_type": "markdown",
   "metadata": {},
   "source": [
    "## Dictionaries"
   ]
  },
  {
   "cell_type": "code",
   "execution_count": 47,
   "metadata": {},
   "outputs": [],
   "source": [
    "theData2 = requests.get('https://opendurham.nc.gov/explore/dataset/enviroatlas/download/?format=json').json()"
   ]
  },
  {
   "cell_type": "code",
   "execution_count": 46,
   "metadata": {},
   "outputs": [
    {
     "ename": "NameError",
     "evalue": "name 'theData2' is not defined",
     "output_type": "error",
     "traceback": [
      "\u001b[1;31m---------------------------------------------------------------------------\u001b[0m",
      "\u001b[1;31mNameError\u001b[0m                                 Traceback (most recent call last)",
      "\u001b[1;32m<ipython-input-46-664384068837>\u001b[0m in \u001b[0;36m<module>\u001b[1;34m()\u001b[0m\n\u001b[1;32m----> 1\u001b[1;33m \u001b[0mlen\u001b[0m\u001b[1;33m(\u001b[0m\u001b[0mtheData2\u001b[0m\u001b[1;33m)\u001b[0m\u001b[1;33m\u001b[0m\u001b[0m\n\u001b[0m",
      "\u001b[1;31mNameError\u001b[0m: name 'theData2' is not defined"
     ]
    }
   ],
   "source": [
    "len(theData2)"
   ]
  },
  {
   "cell_type": "code",
   "execution_count": 50,
   "metadata": {},
   "outputs": [
    {
     "data": {
      "text/plain": [
       "dict_keys(['datasetid', 'recordid', 'fields', 'geometry', 'record_timestamp'])"
      ]
     },
     "execution_count": 50,
     "metadata": {},
     "output_type": "execute_result"
    }
   ],
   "source": [
    "theData2[0].keys()"
   ]
  },
  {
   "cell_type": "code",
   "execution_count": null,
   "metadata": {},
   "outputs": [],
   "source": []
  }
 ],
 "metadata": {
  "kernelspec": {
   "display_name": "Python 3",
   "language": "python",
   "name": "python3"
  },
  "language_info": {
   "codemirror_mode": {
    "name": "ipython",
    "version": 3
   },
   "file_extension": ".py",
   "mimetype": "text/x-python",
   "name": "python",
   "nbconvert_exporter": "python",
   "pygments_lexer": "ipython3",
   "version": "3.6.6"
  }
 },
 "nbformat": 4,
 "nbformat_minor": 2
}
